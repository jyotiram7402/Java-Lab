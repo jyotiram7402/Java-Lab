{
  "nbformat": 4,
  "nbformat_minor": 0,
  "metadata": {
    "colab": {
      "provenance": []
    },
    "kernelspec": {
      "name": "python3",
      "display_name": "Python 3"
    },
    "language_info": {
      "name": "python"
    }
  },
  "cells": [
    {
      "cell_type": "markdown",
      "source": [
        "**Install OpenMP support for C++ by running the following command:**"
      ],
      "metadata": {
        "id": "yy-sSPU73-KU"
      }
    },
    {
      "cell_type": "code",
      "source": [
        "!apt-get install g++-8\n",
        "!ln -s /usr/bin/g++-8 /usr/local/bin/g++\n"
      ],
      "metadata": {
        "colab": {
          "base_uri": "https://localhost:8080/"
        },
        "id": "rvmAnBaE38se",
        "outputId": "b229141e-6e4c-4e68-af3b-f24b22b92eff"
      },
      "execution_count": null,
      "outputs": [
        {
          "output_type": "stream",
          "name": "stdout",
          "text": [
            "Reading package lists... Done\n",
            "Building dependency tree       \n",
            "Reading state information... Done\n",
            "The following additional packages will be installed:\n",
            "  cpp-8 gcc-8 gcc-8-base libgcc-8-dev libmpx2 libstdc++-8-dev\n",
            "Suggested packages:\n",
            "  gcc-8-locales g++-8-multilib gcc-8-doc gcc-8-multilib libstdc++-8-doc\n",
            "The following NEW packages will be installed:\n",
            "  cpp-8 g++-8 gcc-8 gcc-8-base libgcc-8-dev libmpx2 libstdc++-8-dev\n",
            "0 upgraded, 7 newly installed, 0 to remove and 23 not upgraded.\n",
            "Need to get 32.8 MB of archives.\n",
            "After this operation, 115 MB of additional disk space will be used.\n",
            "Get:1 http://archive.ubuntu.com/ubuntu focal/universe amd64 gcc-8-base amd64 8.4.0-3ubuntu2 [18.7 kB]\n",
            "Get:2 http://archive.ubuntu.com/ubuntu focal/universe amd64 cpp-8 amd64 8.4.0-3ubuntu2 [8,945 kB]\n",
            "Get:3 http://archive.ubuntu.com/ubuntu focal/universe amd64 libmpx2 amd64 8.4.0-3ubuntu2 [11.8 kB]\n",
            "Get:4 http://archive.ubuntu.com/ubuntu focal/universe amd64 libgcc-8-dev amd64 8.4.0-3ubuntu2 [2,313 kB]\n",
            "Get:5 http://archive.ubuntu.com/ubuntu focal/universe amd64 gcc-8 amd64 8.4.0-3ubuntu2 [9,833 kB]\n",
            "Get:6 http://archive.ubuntu.com/ubuntu focal/universe amd64 libstdc++-8-dev amd64 8.4.0-3ubuntu2 [1,537 kB]\n",
            "Get:7 http://archive.ubuntu.com/ubuntu focal/universe amd64 g++-8 amd64 8.4.0-3ubuntu2 [10.1 MB]\n",
            "Fetched 32.8 MB in 5s (6,458 kB/s)\n",
            "Selecting previously unselected package gcc-8-base:amd64.\n",
            "(Reading database ... 128312 files and directories currently installed.)\n",
            "Preparing to unpack .../0-gcc-8-base_8.4.0-3ubuntu2_amd64.deb ...\n",
            "Unpacking gcc-8-base:amd64 (8.4.0-3ubuntu2) ...\n",
            "Selecting previously unselected package cpp-8.\n",
            "Preparing to unpack .../1-cpp-8_8.4.0-3ubuntu2_amd64.deb ...\n",
            "Unpacking cpp-8 (8.4.0-3ubuntu2) ...\n",
            "Selecting previously unselected package libmpx2:amd64.\n",
            "Preparing to unpack .../2-libmpx2_8.4.0-3ubuntu2_amd64.deb ...\n",
            "Unpacking libmpx2:amd64 (8.4.0-3ubuntu2) ...\n",
            "Selecting previously unselected package libgcc-8-dev:amd64.\n",
            "Preparing to unpack .../3-libgcc-8-dev_8.4.0-3ubuntu2_amd64.deb ...\n",
            "Unpacking libgcc-8-dev:amd64 (8.4.0-3ubuntu2) ...\n",
            "Selecting previously unselected package gcc-8.\n",
            "Preparing to unpack .../4-gcc-8_8.4.0-3ubuntu2_amd64.deb ...\n",
            "Unpacking gcc-8 (8.4.0-3ubuntu2) ...\n",
            "Selecting previously unselected package libstdc++-8-dev:amd64.\n",
            "Preparing to unpack .../5-libstdc++-8-dev_8.4.0-3ubuntu2_amd64.deb ...\n",
            "Unpacking libstdc++-8-dev:amd64 (8.4.0-3ubuntu2) ...\n",
            "Selecting previously unselected package g++-8.\n",
            "Preparing to unpack .../6-g++-8_8.4.0-3ubuntu2_amd64.deb ...\n",
            "Unpacking g++-8 (8.4.0-3ubuntu2) ...\n",
            "Setting up gcc-8-base:amd64 (8.4.0-3ubuntu2) ...\n",
            "Setting up libmpx2:amd64 (8.4.0-3ubuntu2) ...\n",
            "Setting up cpp-8 (8.4.0-3ubuntu2) ...\n",
            "Setting up libgcc-8-dev:amd64 (8.4.0-3ubuntu2) ...\n",
            "Setting up libstdc++-8-dev:amd64 (8.4.0-3ubuntu2) ...\n",
            "Setting up gcc-8 (8.4.0-3ubuntu2) ...\n",
            "Setting up g++-8 (8.4.0-3ubuntu2) ...\n",
            "Processing triggers for man-db (2.9.1-1) ...\n",
            "Processing triggers for libc-bin (2.31-0ubuntu9.9) ...\n"
          ]
        }
      ]
    },
    {
      "cell_type": "markdown",
      "source": [
        "**C++ program code (including any required header files)**"
      ],
      "metadata": {
        "id": "wdjG3ZYi4R1F"
      }
    },
    {
      "cell_type": "code",
      "execution_count": null,
      "metadata": {
        "id": "pe1Tsr44lcOA"
      },
      "outputs": [],
      "source": [
        "code=\"\"\"\n",
        "#include <stdio.h>\n",
        "#include <stdlib.h>\n",
        "#include <omp.h>\n",
        "\n",
        "#define MAX_NODES 10000\n",
        "\n",
        "int n;\n",
        "int adj_list[MAX_NODES][MAX_NODES];\n",
        "int visited[MAX_NODES];\n",
        "int global_queue[MAX_NODES];\n",
        "int queue_size;\n",
        "\n",
        "void parallel_bfs(int start) {\n",
        "    visited[start] = 1;\n",
        "    global_queue[0] = start;\n",
        "    queue_size = 1;\n",
        "\n",
        "    while (queue_size > 0) {\n",
        "        int num_threads = omp_get_max_threads();\n",
        "        int chunk_size = (queue_size + num_threads - 1) / num_threads;\n",
        "        int local_queue[MAX_NODES];\n",
        "        int local_queue_size = 0;\n",
        "\n",
        "        #pragma omp parallel for shared(local_queue, local_queue_size)\n",
        "        for (int i = 0; i < queue_size; i++) {\n",
        "            int node = global_queue[i];\n",
        "\n",
        "            for (int j = 0; j < n; j++) {\n",
        "                if (adj_list[node][j] && !visited[j]) {\n",
        "                    visited[j] = 1;\n",
        "                    local_queue[local_queue_size++] = j;\n",
        "                }\n",
        "            }\n",
        "        }\n",
        "\n",
        "        queue_size = 0;\n",
        "\n",
        "        #pragma omp parallel for\n",
        "        for (int i = 0; i < num_threads; i++) {\n",
        "            int start = i * chunk_size;\n",
        "            int end = start + chunk_size;\n",
        "            if (end > local_queue_size) {\n",
        "                end = local_queue_size;\n",
        "            }\n",
        "\n",
        "            for (int j = start; j < end; j++) {\n",
        "                global_queue[queue_size++] = local_queue[j];\n",
        "            }\n",
        "        }\n",
        "    }\n",
        "}\n",
        "\n",
        "int main() {\n",
        "    int start_node;\n",
        "\n",
        "    printf(\"Enter the number of nodes: \");\n",
        "    scanf(\"%d\", &n);\n",
        "\n",
        "    printf(\"Enter the adjacency matrix: \\n\");\n",
        "    for (int i = 0; i < n; i++) {\n",
        "        for (int j = 0; j < n; j++) {\n",
        "            scanf(\"%d\", &adj_list[i][j]);\n",
        "        }\n",
        "    }\n",
        "\n",
        "    printf(\"Enter the starting node: \");\n",
        "    scanf(\"%d\", &start_node);\n",
        "\n",
        "    parallel_bfs(start_node);\n",
        "\n",
        "    printf(\"The BFS traversal order is: \");\n",
        "    for (int i = 0; i < n; i++) {\n",
        "        if (visited[i]) {\n",
        "            printf(\"%d \", i);\n",
        "        }\n",
        "    }\n",
        "    printf(\"\\n\");\n",
        "\n",
        "    return 0;\n",
        "}\n",
        "\n",
        "\"\"\""
      ]
    },
    {
      "cell_type": "markdown",
      "source": [
        "**Compile your C++ program with OpenMP support**"
      ],
      "metadata": {
        "id": "RXkb_b9G4gIk"
      }
    },
    {
      "cell_type": "code",
      "source": [
        "#!g++-8 -fopenmp -o code code.cpp"
      ],
      "metadata": {
        "id": "vxM0FTmq1udO"
      },
      "execution_count": null,
      "outputs": []
    },
    {
      "cell_type": "code",
      "source": [
        "!g++-8 -fopenmp -o code code.c"
      ],
      "metadata": {
        "id": "VpithkEx935t"
      },
      "execution_count": null,
      "outputs": []
    },
    {
      "cell_type": "markdown",
      "source": [
        "**Create an input file with the necessary input data for your program and save it to the notebook's file system**"
      ],
      "metadata": {
        "id": "l0IRzWXx5Xy1"
      }
    },
    {
      "cell_type": "code",
      "source": [
        "%%writefile input_file.txt\n",
        "5 6\n",
        "0 1\n",
        "0 2\n",
        "1 3\n",
        "1 4\n",
        "2 4\n",
        "3 4"
      ],
      "metadata": {
        "colab": {
          "base_uri": "https://localhost:8080/"
        },
        "id": "MbB7ML3El4hG",
        "outputId": "e94c0990-943a-4ea1-e23a-6d29b6842728"
      },
      "execution_count": null,
      "outputs": [
        {
          "output_type": "stream",
          "name": "stdout",
          "text": [
            "Writing input_file.txt\n"
          ]
        }
      ]
    },
    {
      "cell_type": "markdown",
      "source": [
        "**Run your program with input**"
      ],
      "metadata": {
        "id": "6qryAkRK5kss"
      }
    },
    {
      "cell_type": "code",
      "source": [
        "!./code < input_file.txt"
      ],
      "metadata": {
        "id": "DPJIOuf4l6Wd"
      },
      "execution_count": null,
      "outputs": []
    },
    {
      "cell_type": "code",
      "source": [
        "!echo \"5 6\\n0 1\\n0 2\\n1 3\\n1 4\\n2 4\\n3 4\" | ./code"
      ],
      "metadata": {
        "id": "ktMZljDI5yUl"
      },
      "execution_count": null,
      "outputs": []
    }
  ]
}